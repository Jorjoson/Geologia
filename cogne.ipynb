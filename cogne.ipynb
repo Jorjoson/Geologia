{
 "cells": [
  {
   "cell_type": "markdown",
   "id": "43f4ec4a",
   "metadata": {},
   "source": [
    "CELLA DI IMPORTAZIONE DELLE LIBRERIE e del file con la topografia"
   ]
  },
  {
   "cell_type": "code",
   "execution_count": null,
   "id": "de09fe4e",
   "metadata": {},
   "outputs": [],
   "source": [
    "\n",
    "import sys\n",
    "import csv\n",
    "import numpy as np\n",
    "import matplotlib.pyplot as plt\n",
    "from mpl_toolkits.mplot3d import axes3d\n",
    "from mpl_toolkits.mplot3d import Axes3D\n",
    "import seaborn as sns\n",
    "import pandas as pd\n",
    "import math\n",
    "\n",
    "\n",
    "topografia = 'topografia_definitivo.csv'"
   ]
  },
  {
   "cell_type": "markdown",
   "id": "37ef4d6a",
   "metadata": {},
   "source": [
    "Lettura dei dati"
   ]
  },
  {
   "cell_type": "code",
   "execution_count": null,
   "id": "69d137be",
   "metadata": {},
   "outputs": [],
   "source": [
    "df = pd.read_csv(topografia, sep=\";\")\n",
    "\n",
    "x = df['x']\n",
    "y = df['y']\n",
    "z = df['z']"
   ]
  },
  {
   "cell_type": "markdown",
   "id": "094d8108",
   "metadata": {},
   "source": [
    "I dati che servono per visualizzare correttamente la mappa e il limite. Possono essere modificati a piacere."
   ]
  },
  {
   "cell_type": "code",
   "execution_count": null,
   "id": "79349c62",
   "metadata": {},
   "outputs": [],
   "source": [
    "#PER IL PIANO\n",
    "immersione = 40\n",
    "inclinazione = 40\n",
    "\n",
    "#PER L'EQUIDISTANZA DELLE ISOIPSE\n",
    "PRINCIPALI = 100\n",
    "SECONDARIE = 10"
   ]
  },
  {
   "cell_type": "markdown",
   "id": "6a2cdf66",
   "metadata": {},
   "source": [
    "IL CODICE CHE GENERA IL LIMITE, LA MAPPA E IL PIANO. NON MODIFICARE"
   ]
  },
  {
   "cell_type": "code",
   "execution_count": null,
   "id": "7f354ac7",
   "metadata": {},
   "outputs": [],
   "source": [
    "#crea le liste per le isoipse\n",
    "levels = []\n",
    "sublevels = []\n",
    "for i in range(0,4000, PRINCIPALI): levels.append(i)\n",
    "for i in range(0,4000, SECONDARIE): sublevels.append(i)\n",
    "\n",
    "print(levels)\n",
    "\n",
    "#calcola il piano e aggiunge i valori\n",
    "inclinazione = np.radians(inclinazione)\n",
    "immersione = np.radians(immersione)\n",
    "x0 = 1200\n",
    "y0 = 1450\n",
    "z0 = 1600\n",
    "\n",
    "Xpiano = []\n",
    "Ypiano = []\n",
    "Zpiano = []\n",
    "\n",
    "for i in range(len(df)):\n",
    "    Xpiano.append(x[i])\n",
    "    Ypiano.append(y[i])\n",
    "    Zpiano.append(z0 - np.tan(inclinazione)*(np.sin(immersione)*(x[i]-x0)+np.cos(immersione)*(y[i]-y0)))\n",
    "\n",
    "\n",
    "#CREA LE AREE SOPRA E SOTTO AL LIMITE\n",
    "xsu = []\n",
    "ysu = []\n",
    "xgiu = []\n",
    "ygiu = []\n",
    "for i in range(len(df)):\n",
    "    if z[i] > Zpiano[i]:\n",
    "        xsu.append(x[i])\n",
    "        ysu.append(y[i])\n",
    "    if z[i] <= Zpiano[i]:\n",
    "        xgiu.append(x[i])\n",
    "        ygiu.append(y[i])\n",
    "\n",
    "\n",
    "\n",
    "#DISEGNA LA MAPPA\n",
    "fig = plt.figure()\n",
    "\n",
    "\n",
    "ax = fig.add_subplot()\n",
    "direttrici = ax.tricontour(df['x'], df['y'], Zpiano, levels=levels, linewidths=1, colors='pink')\n",
    "principali = ax.tricontour(df['x'], df['y'], df['z'],levels=levels, linewidths=1, colors='black')\n",
    "secondarie = ax.tricontour(df['x'], df['y'], df['z'],levels=sublevels, linewidths=.3, colors='black')\n",
    "\n",
    "\n",
    "\n",
    "sopra = ax.scatter(xsu,ysu, color='red', s=1)\n",
    "sotto = ax.scatter(xgiu,ygiu, color='blue', s=1)\n",
    "\n",
    "punto = ax.scatter(x0,y0, color='black')\n",
    "plt.show()"
   ]
  },
  {
   "cell_type": "code",
   "execution_count": null,
   "id": "c255f1a2",
   "metadata": {},
   "outputs": [],
   "source": []
  }
 ],
 "metadata": {
  "language_info": {
   "name": "python"
  }
 },
 "nbformat": 4,
 "nbformat_minor": 5
}
